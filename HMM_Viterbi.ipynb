{
 "cells": [
  {
   "cell_type": "code",
   "execution_count": 129,
   "metadata": {},
   "outputs": [
    {
     "name": "stdout",
     "output_type": "stream",
     "text": [
      "[[0.19315951 0.20274011 0.18560085 0.20699978 0.21149975]\n",
      " [0.19316312 0.28471168 0.19348393 0.15105487 0.17758641]\n",
      " [0.21186442 0.16998969 0.22405349 0.20692099 0.1871714 ]\n",
      " [0.22948645 0.21233816 0.20073757 0.12471203 0.23272579]\n",
      " [0.17377348 0.20004883 0.25674211 0.16423194 0.20520364]]\n"
     ]
    }
   ],
   "source": [
    "import numpy as np\n",
    "import math\n",
    "from statistics import mean \n",
    "\n",
    "\"\"\"\n",
    "Creates randomly generated normalized user data for the \n",
    "KNN to determine the states for the Hidden Markov Process\n",
    "\n",
    "Data that is randomly generated:\n",
    "- preference values for the sample users - prob they vote for each sector\n",
    "- values for the emission probabilities - seeing each observation based on the state\n",
    "- state transition created based off random state array generated\n",
    "\"\"\"\n",
    "\n",
    "#generates one row of the emission probability matrix\n",
    "def genOne():\n",
    "    valArr = []\n",
    "    genArray = np.random.randint(100, size = 5)\n",
    "    genArray = sum_array_to_prob(genArray)\n",
    "    return genArray.tolist()\n",
    "\n",
    "#converts the input data over the total sum into probabilities\n",
    "def sum_array_to_prob(genArray):\n",
    "    genArray = np.array(genArray)\n",
    "    genArray = genArray / sum(genArray)\n",
    "    return genArray\n",
    "\n",
    "#generates the entire emission probability matrix, qnty is the number of samples it averages over\n",
    "def genAll(qnty):\n",
    "    num_state_count = 5\n",
    "    returnArr = []\n",
    "    for y in range(num_state_count):\n",
    "        val = [0, 0, 0, 0, 0]\n",
    "        for x in range(qnty):\n",
    "            val = [x + y for x, y in zip(val, genOne())]\n",
    "        val = [x / qnty for x in val]\n",
    "        returnArr.append(val)\n",
    "    return returnArr\n",
    "\n",
    "#takes the user data and overall emissions probability to classify the user into the bucket\n",
    "def classifyUser(userData, emissionsProbs):\n",
    "    bestIndex = -1\n",
    "    curBest = 99999\n",
    "    for x in range(len(emissionsProbs)):\n",
    "        curDist = 0\n",
    "        for y in range(len(emissionsProbs[x])):\n",
    "            curDist += (emissionsProbs[x][y] - userData[y]) ** 2\n",
    "        curDist = math.sqrt(curDist)\n",
    "        if(curBest > curDist):\n",
    "            curBest = curDist\n",
    "            bestIndex = x\n",
    "    return bestIndex\n",
    "            \n",
    "emissionProbs = np.array(genAll(10))\n",
    "print(emissionProbs)\n"
   ]
  },
  {
   "cell_type": "code",
   "execution_count": 139,
   "metadata": {},
   "outputs": [
    {
     "name": "stdout",
     "output_type": "stream",
     "text": [
      "[[0.0, 0.25, 0.25, 0.17, 0.33], [0.07, 0.33, 0.3, 0.19, 0.11], [0.18, 0.29, 0.29, 0.07, 0.18], [0.2, 0.2, 0.27, 0.13, 0.2], [0.18, 0.18, 0.29, 0.24, 0.12]]\n"
     ]
    }
   ],
   "source": [
    "\"\"\"\n",
    "Creates the transition matrix used in the HMM model\n",
    "\"\"\"\n",
    "userClassifications = []\n",
    "for x in range(100):\n",
    "    userClassifications.append(classifyUser(genOne(), emissionProbs))\n",
    "\n",
    "rows, cols = (5,5)\n",
    "transitionMatrix = [[0 for i in range(cols)] for j in range(rows)] \n",
    "\n",
    "#populations the transition matrix with the raw data\n",
    "for x in range(len(userClassifications) - 1):\n",
    "    curState = userClassifications[x]\n",
    "    nextState = userClassifications[x+1]\n",
    "    transitionMatrix[curState][nextState] += 1\n",
    "    \n",
    "#print(transitionMatrix)\n",
    "#converts the raw data into the smoothed values\n",
    "for row_n in range (rows):\n",
    "    transitionMatrix[row_n] = sum_array_to_prob(transitionMatrix[row_n]).tolist()\n",
    "    transitionMatrix[row_n] = [round(val, 2) for val in transitionMatrix[row_n]]\n",
    "\n",
    "print(transitionMatrix)    "
   ]
  },
  {
   "cell_type": "code",
   "execution_count": 150,
   "metadata": {},
   "outputs": [],
   "source": [
    "\"\"\"\n",
    "Implements Viterbi's algorithm to determine the ideal state sequence\n",
    "\n",
    "Additional assumptions:\n",
    "- probability of each state from the start\n",
    "- sequence of assets that the user liked - last 7\n",
    "\"\"\"\n",
    "\n",
    "def Viterbi():\n",
    "    #considers the overall user base that is in each state\n",
    "    overallUserBase = [0.2, 0.2, 0.2, 0.2, 0.2]\n",
    "    allPaths = [[0], [1], [2], [3], [4]]\n",
    "    baseProb = overallUserBase #initial probabilities for the algorithm\n",
    "    ObsSequence = [1, 0, 2, 3, 3, 0, 4] #sequence that the user liked\n",
    "    states = 5\n",
    "\n",
    "    for obs in ObsSequence:\n",
    "        for pathIndex in range(len(allPaths)):\n",
    "            lastPathLoc = allPaths[pathIndex][-1]\n",
    "            cProbArray = []\n",
    "            for state in range(states):\n",
    "                cProb = transitionMatrix[lastPathLoc][state]*emissionProbs[state][obs]\n",
    "                cProbArray.append(cProb)\n",
    "            baseProb[pathIndex] *= max(cProbArray)\n",
    "            allPaths[pathIndex].append(cProbArray.index(max(cProbArray)))\n",
    "\n",
    "    #print(baseProb)\n",
    "    #print(allPaths[baseProb.index(max(baseProb))])\n",
    "    return allPaths[baseProb.index(max(baseProb))]"
   ]
  },
  {
   "cell_type": "code",
   "execution_count": 151,
   "metadata": {},
   "outputs": [
    {
     "name": "stdout",
     "output_type": "stream",
     "text": [
      "[1, 1, 1, 2, 2, 2, 2, 2]\n"
     ]
    }
   ],
   "source": [
    "print(Viterbi())"
   ]
  },
  {
   "cell_type": "code",
   "execution_count": null,
   "metadata": {},
   "outputs": [],
   "source": []
  }
 ],
 "metadata": {
  "kernelspec": {
   "display_name": "Python 3",
   "language": "python",
   "name": "python3"
  },
  "language_info": {
   "codemirror_mode": {
    "name": "ipython",
    "version": 3
   },
   "file_extension": ".py",
   "mimetype": "text/x-python",
   "name": "python",
   "nbconvert_exporter": "python",
   "pygments_lexer": "ipython3",
   "version": "3.7.6"
  }
 },
 "nbformat": 4,
 "nbformat_minor": 4
}
