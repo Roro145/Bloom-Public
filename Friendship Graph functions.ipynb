{
 "cells": [
  {
   "cell_type": "code",
   "execution_count": 11,
   "metadata": {},
   "outputs": [
    {
     "name": "stdout",
     "output_type": "stream",
     "text": [
      "Already friends!\n",
      "Already friends!\n",
      "Friended!\n"
     ]
    },
    {
     "data": {
      "text/plain": [
       "True"
      ]
     },
     "execution_count": 11,
     "metadata": {},
     "output_type": "execute_result"
    }
   ],
   "source": [
    "\"\"\"\n",
    "Make friend function, takes two users and makes them friends\n",
    "\"\"\"\n",
    "users = {\n",
    "    '1234': {\"Friend List\": [\"1235\", \"1236\"]},\n",
    "    '1235': {\"Friend List\": [\"1234\"]},\n",
    "    '1236': {\"Friend List\": [\"1234\"]}\n",
    "}\n",
    "\n",
    "#takes the user by uid\n",
    "def makeFriends(user1, user2):\n",
    "    user1Friends = users[user1][\"Friend List\"]\n",
    "    user2Friends = users[user2][\"Friend List\"]\n",
    "    for friend in user1Friends:\n",
    "        if(friend == user2):\n",
    "            print(\"Already friends!\")\n",
    "            return False\n",
    "    \n",
    "    for friend in user2Friends:\n",
    "        if(friend == user1):\n",
    "            print(\"Already friends!\")\n",
    "            return False\n",
    "    \n",
    "    users[user1][\"Friend List\"].append(user2)\n",
    "    users[user2][\"Friend List\"].append(user1)\n",
    "    print(\"Friended!\")\n",
    "    return True\n",
    "    \n",
    "makeFriends(\"1234\", \"1235\")\n",
    "makeFriends(\"1236\", \"1234\")\n",
    "makeFriends(\"1236\", \"1235\")"
   ]
  },
  {
   "cell_type": "code",
   "execution_count": 12,
   "metadata": {},
   "outputs": [
    {
     "name": "stdout",
     "output_type": "stream",
     "text": [
      "[]\n",
      "['1234']\n"
     ]
    }
   ],
   "source": [
    "\"\"\"\n",
    "Counts the number of mutual friends between two people\n",
    "\"\"\"\n",
    "users = {\n",
    "    '1234': {\"Friend List\": [\"1235\", \"1236\"]},\n",
    "    '1235': {\"Friend List\": [\"1234\"]},\n",
    "    '1236': {\"Friend List\": [\"1234\"]}\n",
    "}\n",
    "\n",
    "def mutualFriends(user1, user2):\n",
    "    returnList = []\n",
    "    user1Friends = users[user1][\"Friend List\"]\n",
    "    user2Friends = users[user2][\"Friend List\"]\n",
    "    temp = set(user2Friends)\n",
    "    returnList = [value for value in user1Friends if value in temp]\n",
    "    return returnList\n",
    "\n",
    "print(mutualFriends(\"1234\", \"1236\"))\n",
    "print(mutualFriends(\"1235\", \"1236\"))"
   ]
  },
  {
   "cell_type": "code",
   "execution_count": 22,
   "metadata": {},
   "outputs": [
    {
     "name": "stdout",
     "output_type": "stream",
     "text": [
      "{'1': 3, '5': 1, '6': 1, '9': 3, '7': 1, '8': 1}\n"
     ]
    },
    {
     "data": {
      "text/plain": [
       "['9', '1', '8', '7', '6', '5']"
      ]
     },
     "execution_count": 22,
     "metadata": {},
     "output_type": "execute_result"
    }
   ],
   "source": [
    "users = {\n",
    "    '1': {\"Friend List\": [\"2\", \"3\", \"4\"]},\n",
    "    '2': {\"Friend List\": [\"1\", \"5\", \"6\", \"9\"]},\n",
    "    '3': {\"Friend List\": [\"1\", \"9\"]},\n",
    "    '4': {\"Friend List\": [\"1\", \"7\", \"8\", \"9\"]},\n",
    "    '5': {\"Friend List\": [\"2\"]},\n",
    "    '6': {\"Friend List\": [\"2\"]},\n",
    "    '7': {\"Friend List\": [\"4\"]},\n",
    "    '8': {\"Friend List\": [\"4\"]},\n",
    "    '9': {\"Friend List\": [\"2\", \"3\", \"4\"]}\n",
    "}\n",
    "\n",
    "def recommendFriends(user1):\n",
    "    firstLevelBFS = users[user1][\"Friend List\"]\n",
    "    secondLevelBFS = {}\n",
    "    \n",
    "    for friend in firstLevelBFS:\n",
    "        for friend_of_friend in users[friend][\"Friend List\"]:\n",
    "            if friend_of_friend in secondLevelBFS:\n",
    "                secondLevelBFS[friend_of_friend] += 1\n",
    "            else:\n",
    "                secondLevelBFS[friend_of_friend] = 1\n",
    "    \n",
    "    print(secondLevelBFS)\n",
    "    firstList = []\n",
    "    secondList = []\n",
    "    for key, value in secondLevelBFS.items():\n",
    "        firstList.append(key)\n",
    "        secondList.append(value)\n",
    "    #sorts the first list based off the second\n",
    "    Z = [x for _,x in sorted(zip( secondList,firstList))]\n",
    "    Z.reverse()\n",
    "    \n",
    "    return Z\n",
    "\n",
    "recommendFriends(\"1\")"
   ]
  },
  {
   "cell_type": "code",
   "execution_count": null,
   "metadata": {},
   "outputs": [],
   "source": []
  }
 ],
 "metadata": {
  "kernelspec": {
   "display_name": "Python 3",
   "language": "python",
   "name": "python3"
  },
  "language_info": {
   "codemirror_mode": {
    "name": "ipython",
    "version": 3
   },
   "file_extension": ".py",
   "mimetype": "text/x-python",
   "name": "python",
   "nbconvert_exporter": "python",
   "pygments_lexer": "ipython3",
   "version": "3.7.6"
  }
 },
 "nbformat": 4,
 "nbformat_minor": 4
}
